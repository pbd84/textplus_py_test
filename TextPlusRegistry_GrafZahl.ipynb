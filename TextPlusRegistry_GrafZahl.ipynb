{
  "cells": [
    {
      "cell_type": "markdown",
      "metadata": {
        "id": "94vuAnTnVBkL"
      },
      "source": [
        "# Get data from the NFDI Text+ Registry"
      ]
    },
    {
      "cell_type": "markdown",
      "metadata": {
        "id": "EjSJ9koAUz9f"
      },
      "source": [
        "## Setup (execute only once)"
      ]
    },
    {
      "cell_type": "code",
      "execution_count": null,
      "metadata": {
        "id": "AQ-ADwLJTa3Q"
      },
      "outputs": [],
      "source": [
        "# install all (external) packages:\n",
        "#%%capture\n",
        "!pip install jsonpath_ng\n",
        "\n",
        "# import packages:\n",
        "from jsonpath_ng import jsonpath\n",
        "from jsonpath_ng.ext import parse\n",
        "import requests\n",
        "\n",
        "from IPython.display import display\n",
        "from PIL import Image\n",
        "from io import BytesIO\n",
        "from IPython.display import display, SVG\n",
        "\n",
        "import ipywidgets as widgets\n",
        "\n",
        "import matplotlib.pyplot as plt\n",
        "\n",
        "import pandas as pd\n",
        "\n",
        "import plotly.express as px\n",
        "\n",
        "# some generic functions:\n",
        "\n",
        "def resolve_jsonpath(self, find_jsonpath, in_source):\n",
        "    \"\"\" resolve jsonpath and return first value \"\"\"\n",
        "    jsonpath_result = parse(find_jsonpath).find(in_source)\n",
        "\n",
        "    if len(jsonpath_result)>0:\n",
        "        jsonpath_result_return = jsonpath_result[0].value\n",
        "    else:\n",
        "        jsonpath_result_return = None # ?\n",
        "    return jsonpath_result_return\n",
        "\n",
        "def get_property_value_by_path(data_json, path):\n",
        "  property_path = path\n",
        "  property_result = parse(property_path).find(data_json)\n",
        "  if len(property_result)>0:\n",
        "    property_result_value = property_result[0].value\n",
        "  else:\n",
        "    #print('Cannot find ' + path + ' in data_json!')\n",
        "    property_result_value = None\n",
        "  return property_result_value\n",
        "\n",
        "def send_post_request(url, data, headers=None):\n",
        "  try:\n",
        "      response = requests.post(url, json=data, headers=headers)\n",
        "      print(f\"HTTP Status Code: {response.status_code}\")  # Print response code\n",
        "      #print(\"Raw Response Text:\", response.text)  # Debug raw response\n",
        "\n",
        "      response.raise_for_status()  # Ensure we catch HTTP errors (e.g., 400, 500)\n",
        "      return response.json()  # Parse JSON response\n",
        "  except requests.exceptions.RequestException as e:\n",
        "      print(f\"HTTP Request failed: {e}\")\n",
        "      return None\n",
        "\n",
        "\n",
        "def send_get_request(url, headers=None):\n",
        "  try:\n",
        "      response = requests.get(url, timeout=10.0)\n",
        "      print(f\"HTTP Status Code: {response.status_code}\")  # Print response code\n",
        "      #print(\"Raw Response Text:\", response.text)  # Debug raw response\n",
        "\n",
        "      response.raise_for_status()  # Ensure we catch HTTP errors (e.g., 400, 500)\n",
        "      return response.json()  # Parse JSON response\n",
        "  except requests.exceptions.RequestException as e:\n",
        "      print(f\"HTTP Request failed: {e}\")\n",
        "      return None\n",
        "\n",
        "def input_widget():\n",
        "  text_field = widgets.Text(\n",
        "    value='',\n",
        "    placeholder='Type something...',\n",
        "    description='Input:',\n",
        "  )\n",
        "\n",
        "  button = widgets.Button(description=\"Submit\")\n",
        "\n",
        "  display(text_field, button)\n",
        "\n",
        "\n",
        "def url_is_textplus_institution(url):\n",
        "  # compares and returns the textplus partner institution's (base) url\n",
        "  textplus_institutions = [\"awhamburg.de\", \"h-da.de\", \"uni-uwerzburg.de\", \"leopoldina.org\", \"maxweberstiftung.de\", \"saw-leipzig.de\", \"adw-goe.de\", \"tu-dresden.de\", \"uni-due.de\", \"uni-paderborn.de\", \"uni-koeln.de\", \"hs-wismar.de\", \"uni-wuppertal.de\", \"fu-berlin.de\", \"dla-marbach.de\", \"gwdg.de\", \"hab.de\", \"adwmainz.de\", \"fz-juelich.de\", \"klassik-stiftung.de\", \"lmu.de\", \"uni-bamberg.de\", \"steinheim-institut.de\", \"tu-darmstadt.de\", \"uni-saarland.de\", \"uni-hamburg.de\", \"uni-trier.de\", \"ulb.tu-darmstadt.de\", \"uni-freiburg.de\", \"uni-marburg.de\", \"badw.de\", \"uni-tuebingen.de\", \"hadw-bw.de\", \"bbaw.de\", \"awk.nrw.de\", \"haw.uni-heidelberg.de\", \"awk.nrw\", \"uni-muenchen.de\"]\n",
        "\n",
        "  for tpi in textplus_institutions:\n",
        "    if tpi in url:\n",
        "      return tpi # return first institution found\n",
        "\n",
        "  return \"\" # if no institution matches => return empty string\n",
        "\n",
        "def links2institutions(links):\n",
        "  institutions = []\n",
        "  for link in links:\n",
        "    institution = url_is_textplus_institution(link)\n",
        "    if institution != \"\":\n",
        "      institutions.append(institution)\n",
        "\n",
        "  return institutions\n",
        "\n",
        "\n",
        "\n",
        "class InputWidget:\n",
        "    def __init__(self, value, placeholder, description, button_description):  # Constructor\n",
        "        self.value = value\n",
        "        self.placeholder = placeholder\n",
        "        self.description = description\n",
        "        self.button_description = button_description\n",
        "\n",
        "        self.text_field = widgets.Text(\n",
        "          value=value,\n",
        "          placeholder=placeholder,\n",
        "          description=description,\n",
        "        )\n",
        "\n",
        "        self.button = widgets.Button(description=button_description)\n",
        "\n",
        "        display(self.text_field, self.button)\n",
        "\n",
        "        #self.text_field.observe(self.on_text_change, names='value')\n",
        "\n",
        "        self.button.on_click(self.on_button_click)\n",
        "\n",
        "    def on_button_click(self, b):\n",
        "        print(\"Final input:\", self.text_field.value)  # Access text field value\n"
      ]
    },
    {
      "cell_type": "markdown",
      "metadata": {
        "id": "94gcFVuQ96VE"
      },
      "source": [
        "## Request all editions"
      ]
    },
    {
      "cell_type": "markdown",
      "metadata": {
        "id": "rfRytyBgBVqk"
      },
      "source": [
        "### GET all editions"
      ]
    },
    {
      "cell_type": "code",
      "execution_count": null,
      "metadata": {
        "id": "UqndfpVr-BsE"
      },
      "outputs": [],
      "source": [
        "api_url = \"https://registry.text-plus.org/api/v1/e/edition/\"\n",
        "\n",
        "headers = {\"Content-Type\": \"application/json\"}  # Adjust headers as needed\n",
        "\n",
        "\n",
        "response_data = send_get_request(api_url)\n",
        "\n",
        "\n",
        "if response_data is not None:\n",
        "  print(len(response_data[\"items\"]))"
      ]
    },
    {
      "cell_type": "markdown",
      "metadata": {
        "id": "R8NBqZ87BTuM"
      },
      "source": [
        "### Put into array / simplify response"
      ]
    },
    {
      "cell_type": "code",
      "execution_count": null,
      "metadata": {
        "id": "JlBFgvTNBd71"
      },
      "outputs": [],
      "source": [
        "editions = []\n",
        "\n",
        "for item in response_data[\"items\"]:\n",
        "  title = get_property_value_by_path(item, \"$.properties.main_title[?(@['@lang']=='deu')]['@value']\")\n",
        "  if title is None:\n",
        "      title = get_property_value_by_path(item, \"$.properties.main_title[0]['@value']\")\n",
        "  title_pretty = \" \".join(title.split())\n",
        "\n",
        "  id = item[\"entityId\"]\n",
        "\n",
        "  valid = item[\"valid\"]\n",
        "\n",
        "  links = []\n",
        "\n",
        "  institution = \"\"\n",
        "\n",
        "  if \"links\" in item[\"properties\"]:\n",
        "    for link in item[\"properties\"][\"links\"]:\n",
        "      links.append(link[\"link_value\"][0])\n",
        "\n",
        "  institutions = links2institutions(links)\n",
        "\n",
        "  if len(institutions) == 0:\n",
        "    institutions = \"\" # empty string if none was found\n",
        "  else:\n",
        "    institutions = list(dict.fromkeys(institutions)) # deduplicate list & keep order\n",
        "\n",
        "\n",
        "  properties_count = len(item[\"properties\"])\n",
        "\n",
        "\n",
        "  editions.append({\"id\": id, \"url\": \"https://registry.text-plus.org/doc/registry_edition/\" + id, \"admin\": \"https://registry.text-plus.org/admin/entity/\" + id + \"/\",\"title\": title_pretty, \"properties_count\": properties_count, \"valid\": valid, \"links\": links, \"institutions\": institutions})\n",
        "\n",
        "\n",
        "print(\"Anzahl Editionen:\")\n",
        "print(len(editions))"
      ]
    },
    {
      "cell_type": "markdown",
      "metadata": {
        "id": "dVLBtj7JnHw-"
      },
      "source": [
        "## Display editions"
      ]
    },
    {
      "cell_type": "code",
      "execution_count": null,
      "metadata": {
        "id": "BW3rgp8_nKDn"
      },
      "outputs": [],
      "source": [
        "\n",
        "json_counts = {}\n",
        "\n",
        "for edition in editions:\n",
        "  #print(edition)\n",
        "  if(edition[\"valid\"] == False):\n",
        "    json_counts[edition[\"title\"]] = edition[\"properties_count\"]\n",
        "\n",
        "\n",
        "# Prepare data for the plot\n",
        "entries = list(json_counts.keys())\n",
        "counts = list(json_counts.values())\n",
        "\n",
        "# Create a larger figure to accommodate many entries\n",
        "plt.figure(figsize=(20, 10))\n",
        "plt.bar(entries, counts, color='skyblue')\n",
        "plt.xlabel(\"Editions\")\n",
        "plt.ylabel(\"Number of Properties\")\n",
        "plt.title(\"Comparison of Properties Counts in Editions\")\n",
        "plt.ylim(0, max(counts)+1)\n",
        "# Rotate x-axis labels by 90 degrees for readability\n",
        "plt.xticks(rotation=90)\n",
        "plt.tight_layout()  # Adjust layout so labels are not cut off\n",
        "plt.show()\n",
        "\n",
        "\n",
        "print(len(json_counts))\n"
      ]
    },
    {
      "cell_type": "markdown",
      "metadata": {
        "id": "l9zbVVQv9RjI"
      },
      "source": [
        "## DataFrame + Some Statistics"
      ]
    },
    {
      "cell_type": "markdown",
      "metadata": {
        "id": "asZEtdSHJDRB"
      },
      "source": [
        "### Put it into a DataFrame"
      ]
    },
    {
      "cell_type": "code",
      "execution_count": null,
      "metadata": {
        "id": "4HHsihev9Tcq"
      },
      "outputs": [],
      "source": [
        "\n",
        "\n",
        "# Sample DataFrame\n",
        "df = pd.DataFrame(editions)\n"
      ]
    },
    {
      "cell_type": "markdown",
      "metadata": {
        "id": "CAn2_8tCI4Lv"
      },
      "source": [
        "### Choose filters etc."
      ]
    },
    {
      "cell_type": "code",
      "execution_count": null,
      "metadata": {
        "id": "9sTa5ZxbI9oC"
      },
      "outputs": [],
      "source": [
        "# Create a mask and apply it to filter the DataFrame\n",
        "filtered_df = df[df[\"valid\"] == True]\n",
        "#filtered_df = df[df[\"valid\"] == False]\n",
        "\n",
        "attribute_name = \"properties_count\""
      ]
    },
    {
      "cell_type": "markdown",
      "metadata": {
        "id": "iCGeahwkJK-R"
      },
      "source": [
        "### Some basic statistics"
      ]
    },
    {
      "cell_type": "code",
      "execution_count": null,
      "metadata": {
        "id": "fThaZiZbJMw1"
      },
      "outputs": [],
      "source": [
        "# Select the column you're interested in\n",
        "col = filtered_df[attribute_name]\n",
        "\n",
        "# Compute basic statistics\n",
        "minimum = col.min()\n",
        "maximum = col.max()\n",
        "average = col.mean()\n",
        "median = col.median()\n",
        "\n",
        "print(\"Minimum:\", minimum)\n",
        "print(\"Maximum:\", maximum)\n",
        "print(\"Average:\", average)\n",
        "print(\"Median:\", median)"
      ]
    },
    {
      "cell_type": "markdown",
      "metadata": {
        "id": "yjYDaBsrIYrU"
      },
      "source": [
        "### unique/distinct values (i.e. number of properties) sorted by frequency DESC"
      ]
    },
    {
      "cell_type": "code",
      "execution_count": null,
      "metadata": {
        "id": "2-H39InzHVvD"
      },
      "outputs": [],
      "source": [
        "# Get unique values from the index of the value counts\n",
        "unique_values_list = filtered_df[attribute_name].value_counts().index.tolist()\n",
        "print(unique_values_list)\n"
      ]
    },
    {
      "cell_type": "markdown",
      "metadata": {
        "id": "p1vpIxUo8pwl"
      },
      "source": [
        "### Histogram Visualisation"
      ]
    },
    {
      "cell_type": "code",
      "execution_count": null,
      "metadata": {
        "id": "LhFg1rCIEmFc"
      },
      "outputs": [],
      "source": [
        "\n",
        "\n",
        "fig = px.histogram(filtered_df, x=attribute_name, nbins=30, title='Interactive Histogram of Attribute Values')\n",
        "fig.show()"
      ]
    },
    {
      "cell_type": "markdown",
      "metadata": {
        "id": "GczDhMMtJvel"
      },
      "source": [
        "## Show Editions with..."
      ]
    },
    {
      "cell_type": "code",
      "execution_count": null,
      "metadata": {
        "id": "18dvQ86TMQgq"
      },
      "outputs": [],
      "source": [
        "show_df = df[df[\"properties_count\"] < 10]"
      ]
    },
    {
      "cell_type": "code",
      "execution_count": null,
      "metadata": {
        "id": "QIWhDgFEMSrp"
      },
      "outputs": [],
      "source": [
        "# count editions\n",
        "\n",
        "num_rows = len(show_df)\n",
        "print(\"Number of rows:\", num_rows)"
      ]
    },
    {
      "cell_type": "code",
      "execution_count": null,
      "metadata": {
        "id": "O5AWiVD6Jvuy"
      },
      "outputs": [],
      "source": [
        "# print each edition with link to admin entry\n",
        "\n",
        "for index, row in df.iterrows():\n",
        "  if(index <= 9):\n",
        "    print(row[\"title\"])\n",
        "    print(row[\"admin\"])\n",
        "    print(\"---\")\n",
        "  if(num_rows - index <= 10):\n",
        "    print(row[\"title\"])\n",
        "    print(row[\"admin\"])\n",
        "    print(\"---\")\n"
      ]
    },
    {
      "cell_type": "markdown",
      "metadata": {
        "id": "gkIJ9n2Tbh8H"
      },
      "source": [
        "## Editions: not valid"
      ]
    },
    {
      "cell_type": "code",
      "execution_count": null,
      "metadata": {
        "id": "ZfQ-w9-Cbpi7"
      },
      "outputs": [],
      "source": [
        "nonvalid_df = df[df[\"valid\"] == False]"
      ]
    },
    {
      "cell_type": "code",
      "execution_count": null,
      "metadata": {
        "id": "59v1dNTSb7aT"
      },
      "outputs": [],
      "source": [
        "num_rows = len(nonvalid_df)\n",
        "print(\"Number of rows:\", num_rows)"
      ]
    },
    {
      "cell_type": "code",
      "execution_count": null,
      "metadata": {
        "id": "CGHX1mECb7Jz"
      },
      "outputs": [],
      "source": [
        "# print each edition with link to admin entry // first 10\n",
        "\n",
        "for index, row in nonvalid_df.iterrows():\n",
        "  if(index <= 9):\n",
        "    print(row[\"title\"])\n",
        "    print(row[\"admin\"])\n",
        "    print(\"---\")\n",
        "  if(num_rows - index <= 10):\n",
        "    print(row[\"title\"])\n",
        "    print(row[\"admin\"])\n",
        "    print(\"---\")"
      ]
    },
    {
      "cell_type": "markdown",
      "metadata": {
        "id": "qy3fLlmNu7aJ"
      },
      "source": [
        "## Download"
      ]
    },
    {
      "cell_type": "code",
      "execution_count": null,
      "metadata": {
        "id": "yt6Hbf-YvCY3"
      },
      "outputs": [],
      "source": [
        "# implement download / save to storage"
      ]
    }
  ],
  "metadata": {
    "colab": {
      "collapsed_sections": [
        "EjSJ9koAUz9f",
        "94gcFVuQ96VE",
        "dVLBtj7JnHw-",
        "l9zbVVQv9RjI",
        "CAn2_8tCI4Lv",
        "iCGeahwkJK-R",
        "yjYDaBsrIYrU",
        "p1vpIxUo8pwl",
        "GczDhMMtJvel"
      ],
      "provenance": []
    },
    "kernelspec": {
      "display_name": "Python 3",
      "name": "python3"
    },
    "language_info": {
      "name": "python"
    }
  },
  "nbformat": 4,
  "nbformat_minor": 0
}
